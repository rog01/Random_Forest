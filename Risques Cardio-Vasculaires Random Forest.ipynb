{
 "cells": [
  {
   "cell_type": "markdown",
   "metadata": {},
   "source": [
    "#### Risques Cardio-Vasculaires"
   ]
  },
  {
   "cell_type": "markdown",
   "metadata": {},
   "source": [
    "#### 1. Réaliser une veille sur les Random Forest."
   ]
  },
  {
   "cell_type": "raw",
   "metadata": {},
   "source": [
    "Les forêts d'arbres décisionnels ont été premièrement proposées par Ho en 1995 et ont été formellement proposées en 2001 par Leo Breiman et Adèle Cutler. Elles font partie des techniques d'apprentissage automatique. Cet algorithme combine les concepts de sous-espaces aléatoires et de bagging"
   ]
  },
  {
   "cell_type": "raw",
   "metadata": {},
   "source": [
    "Random forests or random decision forests are an ensemble learning method for classification, regression and other tasks that operate by constructing a multitude of decision trees at training time and outputting the class that is the mode of the classes (classification) or mean/average prediction (regression) of the individual trees.\n",
    "\n",
    "Random decision forests correct for decision trees' habit of overfitting to their training set. Random forests generally outperform decision trees, but their accuracy is lower than gradient boosted trees. However, data characteristics can affect their performance."
   ]
  },
  {
   "cell_type": "raw",
   "metadata": {},
   "source": [
    "A relationship between random forests and the k-nearest neighbor algorithm (k-NN) was pointed out by Lin and Jeon in 2002. It turns out that both can be viewed as so-called weighted neighborhoods schemes."
   ]
  },
  {
   "cell_type": "markdown",
   "metadata": {},
   "source": [
    "#### Notion de bagging :\n",
    "Les Random Forest peuvent être composées de plusieurs dizaines voire centaines d’arbres, le nombre d’arbre est un paramètre que l’on ajuste généralement par validation croisée (ou cross-validation en anglais). Pour faire court, la validation croisée est une technique d’évaluation d’un algorithme de Machine Learning consistant à entrainer et tester le modèle sur des morceaux du dataset de départ."
   ]
  },
  {
   "cell_type": "raw",
   "metadata": {},
   "source": [
    "Chaque arbre est entraîné sur un sous-ensemble du dataset et donne un résultat (oui ou non dans le cas de notre exemple sur les champignons). Les résultats de tous les arbres de décision sont alors combinés pour donner une réponse finale. Chaque arbre “vote” (oui ou non) et la réponse finale est celle qui a eu la majorité de vote."
   ]
  },
  {
   "cell_type": "raw",
   "metadata": {},
   "source": [
    "C’est ce que l’on appelle une méthode de bagging :  \n",
    "\n",
    "    On découpe notre dataset en plusieurs sous-ensembles aléatoirement constitués d’échantillons -d’où le “Random” dans Random Forest.\n",
    "    On entraine un modèle sur chaque sous-ensemble : il y a autant de modèles que de sous-ensembles. \n",
    "    On combine tous les résultats des modèles (avec un système de vote par exemple) ce qui nous donne un résultat final."
   ]
  },
  {
   "cell_type": "markdown",
   "metadata": {},
   "source": [
    "#### 2. 3. Visualiser et analyser les données avec les librairies Matplotlib et Seaborn."
   ]
  },
  {
   "cell_type": "code",
   "execution_count": 11,
   "metadata": {},
   "outputs": [
    {
     "data": {
      "text/html": [
       "<div>\n",
       "<style scoped>\n",
       "    .dataframe tbody tr th:only-of-type {\n",
       "        vertical-align: middle;\n",
       "    }\n",
       "\n",
       "    .dataframe tbody tr th {\n",
       "        vertical-align: top;\n",
       "    }\n",
       "\n",
       "    .dataframe thead th {\n",
       "        text-align: right;\n",
       "    }\n",
       "</style>\n",
       "<table border=\"1\" class=\"dataframe\">\n",
       "  <thead>\n",
       "    <tr style=\"text-align: right;\">\n",
       "      <th></th>\n",
       "      <th>id</th>\n",
       "      <th>age</th>\n",
       "      <th>gender</th>\n",
       "      <th>height</th>\n",
       "      <th>weight</th>\n",
       "      <th>ap_hi</th>\n",
       "      <th>ap_lo</th>\n",
       "      <th>cholesterol</th>\n",
       "      <th>gluc</th>\n",
       "      <th>smoke</th>\n",
       "      <th>alco</th>\n",
       "      <th>active</th>\n",
       "      <th>cardio</th>\n",
       "    </tr>\n",
       "  </thead>\n",
       "  <tbody>\n",
       "    <tr>\n",
       "      <th>0</th>\n",
       "      <td>0</td>\n",
       "      <td>18393</td>\n",
       "      <td>2</td>\n",
       "      <td>168</td>\n",
       "      <td>62.0</td>\n",
       "      <td>110</td>\n",
       "      <td>80</td>\n",
       "      <td>1</td>\n",
       "      <td>1</td>\n",
       "      <td>0</td>\n",
       "      <td>0</td>\n",
       "      <td>1</td>\n",
       "      <td>0</td>\n",
       "    </tr>\n",
       "    <tr>\n",
       "      <th>1</th>\n",
       "      <td>1</td>\n",
       "      <td>20228</td>\n",
       "      <td>1</td>\n",
       "      <td>156</td>\n",
       "      <td>85.0</td>\n",
       "      <td>140</td>\n",
       "      <td>90</td>\n",
       "      <td>3</td>\n",
       "      <td>1</td>\n",
       "      <td>0</td>\n",
       "      <td>0</td>\n",
       "      <td>1</td>\n",
       "      <td>1</td>\n",
       "    </tr>\n",
       "    <tr>\n",
       "      <th>2</th>\n",
       "      <td>2</td>\n",
       "      <td>18857</td>\n",
       "      <td>1</td>\n",
       "      <td>165</td>\n",
       "      <td>64.0</td>\n",
       "      <td>130</td>\n",
       "      <td>70</td>\n",
       "      <td>3</td>\n",
       "      <td>1</td>\n",
       "      <td>0</td>\n",
       "      <td>0</td>\n",
       "      <td>0</td>\n",
       "      <td>1</td>\n",
       "    </tr>\n",
       "  </tbody>\n",
       "</table>\n",
       "</div>"
      ],
      "text/plain": [
       "   id    age  gender  height  weight  ap_hi  ap_lo  cholesterol  gluc  smoke  \\\n",
       "0   0  18393       2     168    62.0    110     80            1     1      0   \n",
       "1   1  20228       1     156    85.0    140     90            3     1      0   \n",
       "2   2  18857       1     165    64.0    130     70            3     1      0   \n",
       "\n",
       "   alco  active  cardio  \n",
       "0     0       1       0  \n",
       "1     0       1       1  \n",
       "2     0       0       1  "
      ]
     },
     "execution_count": 11,
     "metadata": {},
     "output_type": "execute_result"
    }
   ],
   "source": [
    "# Import Pandas\n",
    "import pandas as pd\n",
    "import numpy as np\n",
    "\n",
    "# Load Movies Metadata\n",
    "#data = pd.read_csv('cardio_train.csv', low_memory=False)\n",
    "data = pd.read_csv('cardio_train.csv', sep=';')\n",
    "\n",
    "# Print the first three rows\n",
    "data.head(3)"
   ]
  },
  {
   "cell_type": "code",
   "execution_count": 2,
   "metadata": {},
   "outputs": [
    {
     "data": {
      "text/plain": [
       "(70000, 13)"
      ]
     },
     "execution_count": 2,
     "metadata": {},
     "output_type": "execute_result"
    }
   ],
   "source": [
    "data.shape"
   ]
  },
  {
   "cell_type": "code",
   "execution_count": 3,
   "metadata": {
    "scrolled": true
   },
   "outputs": [
    {
     "data": {
      "image/png": "[encoded data removed]",
      "text/plain": [
       "<Figure size 1080x1080 with 2 Axes>"
      ]
     },
     "metadata": {
      "needs_background": "light"
     },
     "output_type": "display_data"
    }
   ],
   "source": [
    "import seaborn as sn\n",
    "import matplotlib.pyplot as plt\n",
    "\n",
    "# matrice de correlation sur les caracteristiques (mean)\n",
    "features = ['age','gender','height','weight','ap_hi', 'ap_lo', 'cholesterol','gluc', 'smoke', 'alco','active','cardio']\n",
    "plt.figure(figsize=(15,15))\n",
    "heat = sn.heatmap(data[features].corr(), vmax=1, square=True, annot=True)"
   ]
  },
  {
   "cell_type": "raw",
   "metadata": {},
   "source": [
    "On peut remarquer que les accidents cardio vasculaires sont corrélés avec l'age, le poids et le cholesterol et le taux de glucose"
   ]
  },
  {
   "cell_type": "code",
   "execution_count": 164,
   "metadata": {},
   "outputs": [],
   "source": [
    "import pandas_profiling\n",
    "\n",
    "#pandas_profiling.ProfileReport(data)"
   ]
  },
  {
   "cell_type": "markdown",
   "metadata": {},
   "source": [
    "#### 4. Résoudre le cas d’étude présenté ci-dessus avec la librairie Scikit-Learn \n",
    "(exploration des données, préparation des données, modélisation, le test et l’interprétation des résultats)."
   ]
  },
  {
   "cell_type": "code",
   "execution_count": 4,
   "metadata": {},
   "outputs": [
    {
     "name": "stdout",
     "output_type": "stream",
     "text": [
      "Sur ce jeu de données, le taux de succès en classification moyen de : 0.72\n"
     ]
    }
   ],
   "source": [
    "from sklearn.ensemble import RandomForestClassifier\n",
    "from sklearn.preprocessing import StandardScaler\n",
    "from sklearn.model_selection import cross_val_score\n",
    "from sklearn.model_selection import train_test_split\n",
    "\n",
    "X = data.drop(['id','cardio'], axis=1)\n",
    "y = data['cardio']\n",
    "\n",
    "# Split dataset into training set and test set\n",
    "X_train, X_test, y_train, y_test = train_test_split(X, y, test_size=0.25) # 70% training and 30% test\n",
    "\n",
    "rf = RandomForestClassifier(random_state=None)\n",
    "\n",
    "rf.fit(X_train, y_train)\n",
    "\n",
    "#Calcul de la performance du RandomForest en cross-validation\n",
    "score = cross_val_score(rf, X_test, y_test,cv=5)\n",
    "print (\"Sur ce jeu de données, le taux de succès en classification moyen de :\",round(score.mean(),3))"
   ]
  },
  {
   "cell_type": "code",
   "execution_count": 5,
   "metadata": {},
   "outputs": [
    {
     "name": "stdout",
     "output_type": "stream",
     "text": [
      "accuracy_score :  0.717\n"
     ]
    }
   ],
   "source": [
    "print('accuracy_score : ',round(rf.score(X_test,y_test),3))"
   ]
  },
  {
   "cell_type": "markdown",
   "metadata": {},
   "source": [
    "#### Avec les données scalées :"
   ]
  },
  {
   "cell_type": "code",
   "execution_count": 6,
   "metadata": {},
   "outputs": [
    {
     "data": {
      "text/plain": [
       "RandomForestClassifier(random_state=42)"
      ]
     },
     "execution_count": 6,
     "metadata": {},
     "output_type": "execute_result"
    }
   ],
   "source": [
    "#scalar:\n",
    "scaler = StandardScaler()\n",
    "scaled_X = scaler.fit_transform(X)\n",
    "\n",
    "# Split dataset into training set and test set\n",
    "X_trains, X_tests, y_trains, y_tests = train_test_split(scaled_X, y, test_size=0.25) # 70% training and 30% test\n",
    "\n",
    "rfs = RandomForestClassifier(random_state=42)\n",
    "\n",
    "rfs.fit(X_trains, y_trains)"
   ]
  },
  {
   "cell_type": "markdown",
   "metadata": {},
   "source": [
    "#### Importance des features :"
   ]
  },
  {
   "cell_type": "code",
   "execution_count": 7,
   "metadata": {
    "scrolled": true
   },
   "outputs": [],
   "source": [
    "from sklearn.ensemble import AdaBoostClassifier\n",
    "\n",
    "def feature_importances(clfs):\n",
    "    for i, clf in enumerate(clfs):        \n",
    "        importances = clf.feature_importances_\n",
    "        indices = np.argsort(importances)\n",
    "        # style du graphique \n",
    "        plt.style.use('fivethirtyeight')\n",
    "        %matplotlib inline\n",
    "        plt.subplot(210+i+1)\n",
    "        plt.title('Feature Importances')\n",
    "        plt.barh(range(len(indices)), importances[indices], color='b', align='center')\n",
    "        plt.yticks(range(len(indices)), [features[i] for i in indices])\n",
    "        plt.xlabel('Relative Importance')\n",
    "        plt.show()"
   ]
  },
  {
   "cell_type": "markdown",
   "metadata": {},
   "source": [
    "#### An AdaBoost classifier"
   ]
  },
  {
   "cell_type": "raw",
   "metadata": {},
   "source": [
    "An AdaBoost classifier is a meta-estimator that begins by fitting a classifier on the original dataset and then fits additional copies of the classifier on the same dataset but where the weights of incorrectly classified instances are adjusted such that subsequent classifiers focus more on difficult cases.\n",
    "\n",
    "This class implements the algorithm known as AdaBoost-SAMME"
   ]
  },
  {
   "cell_type": "code",
   "execution_count": 8,
   "metadata": {},
   "outputs": [
    {
     "data": {
      "text/plain": [
       "AdaBoostClassifier(n_estimators=100, random_state=0)"
      ]
     },
     "execution_count": 8,
     "metadata": {},
     "output_type": "execute_result"
    }
   ],
   "source": [
    "adaB = AdaBoostClassifier(n_estimators=100, random_state=0)\n",
    "adaB.fit(X_train, y_train)"
   ]
  },
  {
   "cell_type": "code",
   "execution_count": 9,
   "metadata": {},
   "outputs": [
    {
     "data": {
      "text/plain": [
       "AdaBoostClassifier(n_estimators=100, random_state=0)"
      ]
     },
     "execution_count": 9,
     "metadata": {},
     "output_type": "execute_result"
    }
   ],
   "source": [
    "adaBs = AdaBoostClassifier(n_estimators=100, random_state=0)\n",
    "adaBs.fit(X_trains, y_trains)"
   ]
  },
  {
   "cell_type": "code",
   "execution_count": 12,
   "metadata": {
    "scrolled": true
   },
   "outputs": [
    {
     "data": {
      "image/png": "[encoded data removed]",
      "text/plain": [
       "<Figure size 432x288 with 1 Axes>"
      ]
     },
     "metadata": {
      "needs_background": "light"
     },
     "output_type": "display_data"
    },
    {
     "data": {
      "image/png": "[encoded data removed]",
      "text/plain": [
       "<Figure size 432x288 with 1 Axes>"
      ]
     },
     "metadata": {
      "needs_background": "light"
     },
     "output_type": "display_data"
    },
    {
     "data": {
      "image/png": "[encoded data removed]",
      "text/plain": [
       "<Figure size 432x288 with 1 Axes>"
      ]
     },
     "metadata": {
      "needs_background": "light"
     },
     "output_type": "display_data"
    },
    {
     "data": {
      "image/png": "[encoded data removed]",
      "text/plain": [
       "<Figure size 432x288 with 1 Axes>"
      ]
     },
     "metadata": {
      "needs_background": "light"
     },
     "output_type": "display_data"
    }
   ],
   "source": [
    "clfs1 = [rf,adaB]\n",
    "clfs2 = [rfs,adaBs]\n",
    "feature_importances(clfs1)\n",
    "feature_importances(clfs2)"
   ]
  },
  {
   "cell_type": "raw",
   "metadata": {},
   "source": [
    "La normalisation des données ne semble pas avoir d 'influence sur l'importances des features, ce qui est plutot rassurant\n",
    "Les features les plus importants sont : l'age, les pressions arterielles, le poids, le cholesterol"
   ]
  },
  {
   "cell_type": "code",
   "execution_count": 13,
   "metadata": {
    "scrolled": true
   },
   "outputs": [
    {
     "name": "stdout",
     "output_type": "stream",
     "text": [
      "              precision    recall  f1-score   support\n",
      "\n",
      "     class_0       0.71      0.73      0.72      8701\n",
      "     class_1       0.73      0.70      0.71      8799\n",
      "\n",
      "    accuracy                           0.72     17500\n",
      "   macro avg       0.72      0.72      0.72     17500\n",
      "weighted avg       0.72      0.72      0.72     17500\n",
      "\n"
     ]
    }
   ],
   "source": [
    "from sklearn.metrics import classification_report\n",
    "\n",
    "pred = rf.predict(X_test)\n",
    "target_names = ['class_0','class_1']\n",
    "\n",
    "print(classification_report(y_test, pred, target_names=target_names))"
   ]
  },
  {
   "cell_type": "markdown",
   "metadata": {},
   "source": [
    "#### Avec les données scalées:"
   ]
  },
  {
   "cell_type": "code",
   "execution_count": 14,
   "metadata": {},
   "outputs": [
    {
     "name": "stdout",
     "output_type": "stream",
     "text": [
      "              precision    recall  f1-score   support\n",
      "\n",
      "     class_0       0.70      0.74      0.72      8712\n",
      "     class_1       0.73      0.69      0.71      8788\n",
      "\n",
      "    accuracy                           0.71     17500\n",
      "   macro avg       0.71      0.71      0.71     17500\n",
      "weighted avg       0.71      0.71      0.71     17500\n",
      "\n"
     ]
    }
   ],
   "source": [
    "from sklearn.metrics import classification_report\n",
    "\n",
    "preds = rfs.predict(X_tests)\n",
    "target_names = ['class_0','class_1']\n",
    "\n",
    "print(classification_report(y_tests, preds, target_names=target_names))"
   ]
  },
  {
   "cell_type": "code",
   "execution_count": 20,
   "metadata": {
    "scrolled": false
   },
   "outputs": [
    {
     "data": {
      "text/plain": [
       "<sklearn.metrics._plot.confusion_matrix.ConfusionMatrixDisplay at 0x7fea7ec90c90>"
      ]
     },
     "execution_count": 20,
     "metadata": {},
     "output_type": "execute_result"
    },
    {
     "data": {
      "image/png": "[encoded data removed]",
      "text/plain": [
       "<Figure size 432x288 with 2 Axes>"
      ]
     },
     "metadata": {
      "needs_background": "light"
     },
     "output_type": "display_data"
    }
   ],
   "source": [
    "from sklearn.metrics import confusion_matrix\n",
    "from sklearn.metrics import plot_confusion_matrix\n",
    "\n",
    "conf_matrix = confusion_matrix(y_test, pred)\n",
    "plot_confusion_matrix(rf, X_test, y_test)  "
   ]
  },
  {
   "cell_type": "code",
   "execution_count": 21,
   "metadata": {},
   "outputs": [
    {
     "data": {
      "text/plain": [
       "<sklearn.metrics._plot.confusion_matrix.ConfusionMatrixDisplay at 0x7fea7ed76490>"
      ]
     },
     "execution_count": 21,
     "metadata": {},
     "output_type": "execute_result"
    },
    {
     "data": {
      "image/png": "[encoded data removed]",
      "text/plain": [
       "<Figure size 432x288 with 2 Axes>"
      ]
     },
     "metadata": {
      "needs_background": "light"
     },
     "output_type": "display_data"
    }
   ],
   "source": [
    "from sklearn.metrics import confusion_matrix\n",
    "from sklearn.metrics import plot_confusion_matrix\n",
    "\n",
    "conf_matrix_s = confusion_matrix(y_tests, preds)\n",
    "plot_confusion_matrix(rfs, X_tests, y_tests)  "
   ]
  },
  {
   "cell_type": "code",
   "execution_count": 22,
   "metadata": {
    "scrolled": true
   },
   "outputs": [
    {
     "name": "stdout",
     "output_type": "stream",
     "text": [
      "null_accuracy :  0.731\n",
      "one_accuracy :  0.704\n"
     ]
    }
   ],
   "source": [
    "# Parmi les vraies valeurs en 0, 73 sont predites en 0 , 2 sont en erreur\n",
    "Null_accuracy  = conf_matrix[0][0]/(conf_matrix[0][0]+conf_matrix[0][1])\n",
    "print('null_accuracy : ',round(Null_accuracy,3))\n",
    "\n",
    "# Parmi les vraies valeurs en 1, 38 sont bien predites et 1 est en erreur\n",
    "One_accuracy  = conf_matrix[1][1]/(conf_matrix[1][0]+conf_matrix[1][1])\n",
    "print('one_accuracy : ',round(One_accuracy,3))"
   ]
  },
  {
   "cell_type": "code",
   "execution_count": 23,
   "metadata": {},
   "outputs": [
    {
     "name": "stdout",
     "output_type": "stream",
     "text": [
      "null_accuracy :  0.731\n",
      "one_accuracy :  0.691\n"
     ]
    }
   ],
   "source": [
    "# Parmi les vraies valeurs en 0, 73 sont predites en 0 , 2 sont en erreur\n",
    "Null_accuracy_s  = conf_matrix_s[0][0]/(conf_matrix_s[0][0]+conf_matrix_s[0][1])\n",
    "print('null_accuracy : ',round(Null_accuracy,3))\n",
    "\n",
    "# Parmi les vraies valeurs en 1, 38 sont bien predites et 1 est en erreur\n",
    "One_accuracy_s  = conf_matrix_s[1][1]/(conf_matrix_s[1][0]+conf_matrix_s[1][1])\n",
    "print('one_accuracy : ',round(One_accuracy_s,3))"
   ]
  },
  {
   "cell_type": "markdown",
   "metadata": {},
   "source": [
    "#### 5. Prédire si Arthur 53 ans, fumeur, sportif, 175 cm, 85 kg, \n",
    "avec un taux de cholestérol au dessus de la normal et un taux de glucose normal, une tension artérielle systolique dans la moyenne et une pression sanguine diastolique correspondant à la moyenne du 3e quartile (50%-75%) du jeu de données, est un sujet à risques cardio-vasculaires.\n"
   ]
  },
  {
   "cell_type": "raw",
   "metadata": {},
   "source": [
    "Les données :\n",
    "AGE:  integer (number of days)\n",
    "HEIGHT: integer (cm) \n",
    "WEIGHT: integer (kg)\n",
    "GENDER: categorical (1: female, 2: male)\n",
    "AP_HIGH: systolic blood pressure, integer\n",
    "AP_LOW: diastolic blood pressure, integer \n",
    "CHOLESTEROL: categorical (1: normal, 2: above normal, 3: well above normal)\n",
    "GLUCOSE: categorical (1: normal, 2: above normal, 3: well above normal)\n",
    "SMOKE: categorical (0: no, 1: yes)\n",
    "ALCOHOL: categorical (0: no, 1: yes)\n",
    "PHYSICAL_ACTIVITY: categorical (0: no, 1: yes)\n",
    "\n",
    "et la variable cible :\n",
    "\n",
    "CARDIO_DISEASE:  categorical (0: no, 1: yes)"
   ]
  },
  {
   "cell_type": "raw",
   "metadata": {},
   "source": [
    "age \tgender \theight \tweight \tap_hi \tap_lo \tcholesterol \tgluc \tsmoke \talco \tactive \t\n",
    "age  = 53 * 365, gender = 2, weight = 85, ap_hi = 128, ap_lo = 80, cholesterol = 1,6, gluc = 1, smoke = 1, alco = 1, active = 0\n",
    "les experts proposent comme définition de la PA normale moins de 140 mmHg pour la systolique et moins de 90 mmHg pour la diastolique\n",
    "un taux de cholestérol LDL est considéré comme normal lorsqu'il est inférieur à 1,6 g/l\n",
    "Si le patient présente un ou plusieurs facteurs de risque (par exemple, un homme de plus de 50 ans), cette valeur limite est de 1,3 g/l"
   ]
  },
  {
   "cell_type": "code",
   "execution_count": 24,
   "metadata": {},
   "outputs": [
    {
     "name": "stdout",
     "output_type": "stream",
     "text": [
      "Quartile Q3 vaut :  90\n",
      "Quartile Q1 vaut :  80\n",
      "Quartile mediane vaut :  80\n"
     ]
    }
   ],
   "source": [
    "import numpy as np\n",
    "\n",
    "# calcul de la moyenne du 3e quartile de la pression sanguine diastolique\n",
    "# On calcule le quantile 0,75 qui est le quartile Q3\n",
    "Q3 = round(np.percentile(data['ap_lo'], 75))\n",
    "Q1 = round(np.percentile(data['ap_lo'], 25))\n",
    "mediane = round(np.percentile(data['ap_lo'], 50))\n",
    "print(\"Quartile Q3 vaut : \", Q3)\n",
    "print(\"Quartile Q1 vaut : \", Q1)\n",
    "print(\"Quartile mediane vaut : \", mediane)"
   ]
  },
  {
   "cell_type": "code",
   "execution_count": 70,
   "metadata": {
    "scrolled": true
   },
   "outputs": [
    {
     "name": "stdout",
     "output_type": "stream",
     "text": [
      "[1]\n"
     ]
    }
   ],
   "source": [
    "X  = [[53 * 365, 2, 175, 85.0, 129, 90, 2, 1, 1, 1, 1]]\n",
    "print(rf.predict(X))"
   ]
  },
  {
   "cell_type": "markdown",
   "metadata": {},
   "source": [
    "#### Avec les données scalées :"
   ]
  },
  {
   "cell_type": "code",
   "execution_count": 71,
   "metadata": {},
   "outputs": [
    {
     "name": "stdout",
     "output_type": "stream",
     "text": [
      "[0]\n"
     ]
    }
   ],
   "source": [
    "scaler = StandardScaler()\n",
    "scaled_X = scaler.fit_transform(X)\n",
    "print(rfs.predict(scaled_X))"
   ]
  },
  {
   "cell_type": "markdown",
   "metadata": {},
   "source": [
    "#### Comparaison avec d'autres algorithme de ML: Neural Network"
   ]
  },
  {
   "cell_type": "code",
   "execution_count": 66,
   "metadata": {
    "scrolled": true
   },
   "outputs": [
    {
     "name": "stderr",
     "output_type": "stream",
     "text": [
      "/home/roger/anaconda3/lib/python3.7/site-packages/sklearn/neural_network/_multilayer_perceptron.py:471: ConvergenceWarning: lbfgs failed to converge (status=2):\n",
      "ABNORMAL_TERMINATION_IN_LNSRCH.\n",
      "\n",
      "Increase the number of iterations (max_iter) or scale the data as shown in:\n",
      "    https://scikit-learn.org/stable/modules/preprocessing.html\n",
      "  self.n_iter_ = _check_optimize_result(\"lbfgs\", opt_res, self.max_iter)\n"
     ]
    },
    {
     "data": {
      "text/plain": [
       "MLPClassifier(alpha=1e-05, hidden_layer_sizes=(5, 2), max_iter=1000,\n",
       "              random_state=42, solver='lbfgs')"
      ]
     },
     "execution_count": 66,
     "metadata": {},
     "output_type": "execute_result"
    }
   ],
   "source": [
    "from sklearn.neural_network import MLPClassifier\n",
    "\n",
    "mlp = MLPClassifier(solver='lbfgs', alpha=1e-5,hidden_layer_sizes=(5, 2), max_iter = 1000, random_state=42)\n",
    "mlp.fit(X_train, y_train)"
   ]
  },
  {
   "cell_type": "markdown",
   "metadata": {},
   "source": [
    "#### 5. Prédire si Arthur 53 ans, fumeur, sportif, 175 cm, 85 kg,\n",
    "\n",
    "avec un taux de cholestérol au dessus de la normal et un taux de glucose normal, une tension artérielle systolique dans la moyenne et une pression sanguine diastolique correspondant à la moyenne du 3e quartile (50%-75%) du jeu de données, est un sujet à risques cardio-vasculaires.\n",
    "\n",
    "age \tgender \theight \tweight \tap_hi \tap_lo \tcholesterol \tgluc \tsmoke \talco \tactive \tcardio"
   ]
  },
  {
   "cell_type": "code",
   "execution_count": 67,
   "metadata": {},
   "outputs": [
    {
     "name": "stdout",
     "output_type": "stream",
     "text": [
      "[0]\n"
     ]
    }
   ],
   "source": [
    "X  = [[53 * 365, 2, 175, 85.0, 129, 90, 2, 1, 1, 1, 1]]\n",
    "\n",
    "print(mlp.predict(X))"
   ]
  },
  {
   "cell_type": "code",
   "execution_count": 68,
   "metadata": {},
   "outputs": [
    {
     "name": "stderr",
     "output_type": "stream",
     "text": [
      "/home/roger/anaconda3/lib/python3.7/site-packages/sklearn/neural_network/_multilayer_perceptron.py:471: ConvergenceWarning: lbfgs failed to converge (status=2):\n",
      "ABNORMAL_TERMINATION_IN_LNSRCH.\n",
      "\n",
      "Increase the number of iterations (max_iter) or scale the data as shown in:\n",
      "    https://scikit-learn.org/stable/modules/preprocessing.html\n",
      "  self.n_iter_ = _check_optimize_result(\"lbfgs\", opt_res, self.max_iter)\n"
     ]
    },
    {
     "data": {
      "text/plain": [
       "MLPClassifier(alpha=1e-05, hidden_layer_sizes=(5, 2), max_iter=1000,\n",
       "              random_state=42, solver='lbfgs')"
      ]
     },
     "execution_count": 68,
     "metadata": {},
     "output_type": "execute_result"
    }
   ],
   "source": [
    "mlps = MLPClassifier(solver='lbfgs', alpha=1e-5,hidden_layer_sizes=(5, 2), max_iter = 1000, random_state=42)\n",
    "scaled_X = scaler.fit_transform(X_train)\n",
    "mlps.fit(X_train, y_train)"
   ]
  },
  {
   "cell_type": "code",
   "execution_count": 69,
   "metadata": {},
   "outputs": [
    {
     "name": "stdout",
     "output_type": "stream",
     "text": [
      "[1]\n"
     ]
    }
   ],
   "source": [
    "X  = [[53 * 365, 2, 175, 85.0, 129, 90, 2, 1, 1, 1, 1]]\n",
    "\n",
    "scaled_X = scaler.fit_transform(X)\n",
    "\n",
    "print(mlps.predict(scaled_X))"
   ]
  },
  {
   "cell_type": "code",
   "execution_count": 30,
   "metadata": {
    "scrolled": false
   },
   "outputs": [
    {
     "name": "stdout",
     "output_type": "stream",
     "text": [
      "              precision    recall  f1-score   support\n",
      "\n",
      "     class_0       0.50      1.00      0.66      8701\n",
      "     class_1       1.00      0.00      0.00      8799\n",
      "\n",
      "    accuracy                           0.50     17500\n",
      "   macro avg       0.75      0.50      0.33     17500\n",
      "weighted avg       0.75      0.50      0.33     17500\n",
      "\n"
     ]
    }
   ],
   "source": [
    "pred = mlp.predict(X_test)\n",
    "target_names = ['class_0','class_1']\n",
    "\n",
    "print(classification_report(y_test, pred, target_names=target_names))"
   ]
  },
  {
   "cell_type": "code",
   "execution_count": 31,
   "metadata": {},
   "outputs": [],
   "source": [
    "from sklearn.linear_model import LogisticRegression\n",
    "\n",
    "lr = LogisticRegression(random_state=0).fit(X_train, y_train)"
   ]
  },
  {
   "cell_type": "code",
   "execution_count": 91,
   "metadata": {},
   "outputs": [],
   "source": [
    "from sklearn.neighbors import KNeighborsClassifier\n",
    "\n",
    "knn = KNeighborsClassifier(n_neighbors=26).fit(X_train, y_train)"
   ]
  },
  {
   "cell_type": "code",
   "execution_count": 33,
   "metadata": {
    "scrolled": true
   },
   "outputs": [
    {
     "data": {
      "image/png": "[encoded data removed]",
      "text/plain": [
       "<Figure size 432x288 with 1 Axes>"
      ]
     },
     "metadata": {
      "needs_background": "light"
     },
     "output_type": "display_data"
    }
   ],
   "source": [
    "errors = []\n",
    "for k in range(2,15):\n",
    "    knn = KNeighborsClassifier(k)\n",
    "    errors.append(100*(1 - knn.fit(X_train, y_train).score(X_test, y_test)))\n",
    "plt.plot(range(2,15), errors, 'o-')\n",
    "plt.show()"
   ]
  },
  {
   "cell_type": "code",
   "execution_count": 34,
   "metadata": {
    "scrolled": false
   },
   "outputs": [
    {
     "data": {
      "image/png": "[encoded data removed]",
      "text/plain": [
       "<Figure size 432x288 with 1 Axes>"
      ]
     },
     "metadata": {
      "needs_background": "light"
     },
     "output_type": "display_data"
    }
   ],
   "source": [
    "errors = []\n",
    "for k in range(15,25):\n",
    "    knn = KNeighborsClassifier(k)\n",
    "    errors.append(100*(1 - knn.fit(X_train, y_train).score(X_test, y_test)))\n",
    "plt.plot(range(15,25), errors, 'o-')\n",
    "plt.show()"
   ]
  },
  {
   "cell_type": "code",
   "execution_count": 35,
   "metadata": {
    "scrolled": true
   },
   "outputs": [
    {
     "data": {
      "image/png": "[encoded data removed]",
      "text/plain": [
       "<Figure size 432x288 with 1 Axes>"
      ]
     },
     "metadata": {
      "needs_background": "light"
     },
     "output_type": "display_data"
    }
   ],
   "source": [
    "errors = []\n",
    "for k in range(25,35):\n",
    "    knn = KNeighborsClassifier(k)\n",
    "    errors.append(100*(1 - knn.fit(X_train, y_train).score(X_test, y_test)))\n",
    "plt.plot(range(25,35), errors, 'o-')\n",
    "plt.show()"
   ]
  },
  {
   "cell_type": "code",
   "execution_count": 36,
   "metadata": {
    "scrolled": true
   },
   "outputs": [
    {
     "data": {
      "image/png": "[encoded data removed]",
      "text/plain": [
       "<Figure size 432x288 with 1 Axes>"
      ]
     },
     "metadata": {
      "needs_background": "light"
     },
     "output_type": "display_data"
    }
   ],
   "source": [
    "errors = []\n",
    "for k in range(35,45):\n",
    "    knn = KNeighborsClassifier(k)\n",
    "    errors.append(100*(1 - knn.fit(X_train, y_train).score(X_test, y_test)))\n",
    "plt.plot(range(35,45), errors, 'o-')\n",
    "plt.show()"
   ]
  },
  {
   "cell_type": "raw",
   "metadata": {},
   "source": [
    "k = 26 semble donner l'erreur la plus petite"
   ]
  },
  {
   "cell_type": "code",
   "execution_count": 72,
   "metadata": {
    "scrolled": true
   },
   "outputs": [
    {
     "name": "stdout",
     "output_type": "stream",
     "text": [
      "              precision    recall  f1-score   support\n",
      "\n",
      "           0       0.68      0.78      0.73      8701\n",
      "           1       0.75      0.63      0.69      8799\n",
      "\n",
      "    accuracy                           0.71     17500\n",
      "   macro avg       0.71      0.71      0.71     17500\n",
      "weighted avg       0.71      0.71      0.71     17500\n",
      "\n"
     ]
    }
   ],
   "source": [
    "y_pred = knn.predict(X_test)\n",
    "print(classification_report(y_test, y_pred))"
   ]
  },
  {
   "cell_type": "code",
   "execution_count": 73,
   "metadata": {},
   "outputs": [
    {
     "data": {
      "text/plain": [
       "array([0])"
      ]
     },
     "execution_count": 73,
     "metadata": {},
     "output_type": "execute_result"
    }
   ],
   "source": [
    "X  = [[53 * 365, 2, 175, 85.0, 129, 90, 2, 1, 1, 1, 1]]\n",
    "pred = knn.predict(X)\n",
    "pred"
   ]
  },
  {
   "cell_type": "code",
   "execution_count": 38,
   "metadata": {},
   "outputs": [
    {
     "data": {
      "text/plain": [
       "SGDClassifier()"
      ]
     },
     "execution_count": 38,
     "metadata": {},
     "output_type": "execute_result"
    }
   ],
   "source": [
    "from sklearn.linear_model import SGDClassifier\n",
    "\n",
    "SGD = SGDClassifier(max_iter=1000, tol=1e-3)\n",
    "SGD.fit(X_train, y_train)"
   ]
  },
  {
   "cell_type": "code",
   "execution_count": 39,
   "metadata": {},
   "outputs": [],
   "source": [
    "from sklearn.metrics import confusion_matrix\n",
    "from sklearn.metrics import plot_confusion_matrix\n",
    "\n",
    "def benchmark_clf(clf):\n",
    "    results_null = []\n",
    "    results_one = []\n",
    "    for clf in clfs:\n",
    "        pred = clf.predict(X_test)\n",
    "        conf_matrix = confusion_matrix(y_test, pred)\n",
    "        \n",
    "        Null_accuracy  = conf_matrix[0][0]/(conf_matrix[0][0]+conf_matrix[0][1])\n",
    "        results_null.append(round(Null_accuracy,3))\n",
    "        \n",
    "        One_accuracy  = conf_matrix[1][1]/(conf_matrix[1][0]+conf_matrix[1][1])\n",
    "        results_one.append(round(One_accuracy,3))\n",
    "        \n",
    "    return results_null , results_one"
   ]
  },
  {
   "cell_type": "code",
   "execution_count": 87,
   "metadata": {},
   "outputs": [],
   "source": [
    "def predict(clfs,X):\n",
    "    preds = []\n",
    "    for clf in clfs:\n",
    "        preds.append(clf.predict(X))\n",
    "    return preds   "
   ]
  },
  {
   "cell_type": "code",
   "execution_count": 92,
   "metadata": {
    "scrolled": true
   },
   "outputs": [
    {
     "data": {
      "text/html": [
       "<div>\n",
       "<style scoped>\n",
       "    .dataframe tbody tr th:only-of-type {\n",
       "        vertical-align: middle;\n",
       "    }\n",
       "\n",
       "    .dataframe tbody tr th {\n",
       "        vertical-align: top;\n",
       "    }\n",
       "\n",
       "    .dataframe thead th {\n",
       "        text-align: right;\n",
       "    }\n",
       "</style>\n",
       "<table border=\"1\" class=\"dataframe\">\n",
       "  <thead>\n",
       "    <tr style=\"text-align: right;\">\n",
       "      <th></th>\n",
       "      <th>Random Forest</th>\n",
       "      <th>Neural Network MLP</th>\n",
       "      <th>Logistic Regression</th>\n",
       "      <th>Sgd</th>\n",
       "      <th>Knn</th>\n",
       "    </tr>\n",
       "  </thead>\n",
       "  <tbody>\n",
       "    <tr>\n",
       "      <th>Null_accuracy</th>\n",
       "      <td>0.731</td>\n",
       "      <td>1</td>\n",
       "      <td>0.729</td>\n",
       "      <td>0.02</td>\n",
       "      <td>0.786</td>\n",
       "    </tr>\n",
       "    <tr>\n",
       "      <th>One_accuracy</th>\n",
       "      <td>0.704</td>\n",
       "      <td>0</td>\n",
       "      <td>0.669</td>\n",
       "      <td>0.997</td>\n",
       "      <td>0.639</td>\n",
       "    </tr>\n",
       "    <tr>\n",
       "      <th>Prediction</th>\n",
       "      <td>[1]</td>\n",
       "      <td>[0]</td>\n",
       "      <td>[0]</td>\n",
       "      <td>[1]</td>\n",
       "      <td>[0]</td>\n",
       "    </tr>\n",
       "  </tbody>\n",
       "</table>\n",
       "</div>"
      ],
      "text/plain": [
       "              Random Forest Neural Network MLP Logistic Regression    Sgd  \\\n",
       "Null_accuracy         0.731                  1               0.729   0.02   \n",
       "One_accuracy          0.704                  0               0.669  0.997   \n",
       "Prediction              [1]                [0]                 [0]    [1]   \n",
       "\n",
       "                 Knn  \n",
       "Null_accuracy  0.786  \n",
       "One_accuracy   0.639  \n",
       "Prediction       [0]  "
      ]
     },
     "execution_count": 92,
     "metadata": {},
     "output_type": "execute_result"
    }
   ],
   "source": [
    "X  = [[53 * 365, 2, 175, 85.0, 129, 90, 2, 1, 1, 1, 1]]\n",
    "clfs = [rf, mlp, lr, SGD, knn]\n",
    "results_null , results_one = benchmark_clf(clfs)\n",
    "preds = predict(clfs,X)\n",
    "res = pd.DataFrame([results_null , results_one, preds], index = ['Null_accuracy','One_accuracy','Prediction'], columns =['Random Forest','Neural Network MLP', 'Logistic Regression', 'Sgd','Knn'] )\n",
    "res"
   ]
  },
  {
   "cell_type": "raw",
   "metadata": {},
   "source": [
    "\n",
    "Random Forest et Sgd donnent une prediction à 1, alors que KNN , Neural Network et Logistic Regression à 0 sur des donnees non scalées"
   ]
  },
  {
   "cell_type": "markdown",
   "metadata": {},
   "source": [
    "##### Avec les données scalées"
   ]
  },
  {
   "cell_type": "code",
   "execution_count": 93,
   "metadata": {},
   "outputs": [
    {
     "data": {
      "text/html": [
       "<div>\n",
       "<style scoped>\n",
       "    .dataframe tbody tr th:only-of-type {\n",
       "        vertical-align: middle;\n",
       "    }\n",
       "\n",
       "    .dataframe tbody tr th {\n",
       "        vertical-align: top;\n",
       "    }\n",
       "\n",
       "    .dataframe thead th {\n",
       "        text-align: right;\n",
       "    }\n",
       "</style>\n",
       "<table border=\"1\" class=\"dataframe\">\n",
       "  <thead>\n",
       "    <tr style=\"text-align: right;\">\n",
       "      <th></th>\n",
       "      <th>Random Forest</th>\n",
       "      <th>Neural Network MLP</th>\n",
       "      <th>Logistic Regression</th>\n",
       "      <th>Sgd</th>\n",
       "      <th>Knn</th>\n",
       "    </tr>\n",
       "  </thead>\n",
       "  <tbody>\n",
       "    <tr>\n",
       "      <th>Prediction données non scalées</th>\n",
       "      <td>[0]</td>\n",
       "      <td>[1]</td>\n",
       "      <td>[0]</td>\n",
       "      <td>[0]</td>\n",
       "      <td>[0]</td>\n",
       "    </tr>\n",
       "    <tr>\n",
       "      <th>Prediction données scalées</th>\n",
       "      <td>[1]</td>\n",
       "      <td>[0]</td>\n",
       "      <td>[0]</td>\n",
       "      <td>[1]</td>\n",
       "      <td>[0]</td>\n",
       "    </tr>\n",
       "  </tbody>\n",
       "</table>\n",
       "</div>"
      ],
      "text/plain": [
       "                               Random Forest Neural Network MLP  \\\n",
       "Prediction données non scalées           [0]                [1]   \n",
       "Prediction données scalées               [1]                [0]   \n",
       "\n",
       "                               Logistic Regression  Sgd  Knn  \n",
       "Prediction données non scalées                 [0]  [0]  [0]  \n",
       "Prediction données scalées                     [0]  [1]  [0]  "
      ]
     },
     "execution_count": 93,
     "metadata": {},
     "output_type": "execute_result"
    }
   ],
   "source": [
    "X  = [[53 * 365, 2, 175, 85.0, 129, 90, 2, 1, 1, 1, 1]]\n",
    "\n",
    "scaled_X = scaler.fit_transform(X)\n",
    "predss = predict(clfs,scaled_X)\n",
    "res_pred = pd.DataFrame([predss, preds], index = ['Prediction données non scalées', 'Prediction données scalées'], columns =['Random Forest','Neural Network MLP', 'Logistic Regression', 'Sgd','Knn'] )\n",
    "res_pred"
   ]
  },
  {
   "cell_type": "raw",
   "metadata": {},
   "source": [
    "Scaler les données changent les predictions pour Random Forest, Neural Network et SGD, alors que la predicion reste inchangée pour Logistic Regression et KNN\n",
    "Si on ne considère que les données non scalées , on a une prediction à 0 pour tous les classifieurs (à l'exception du Neural Network)\n",
    "Pour Arthur la prediction est à O"
   ]
  },
  {
   "cell_type": "markdown",
   "metadata": {},
   "source": [
    "#### Test avec Grid Search :    "
   ]
  },
  {
   "cell_type": "raw",
   "metadata": {},
   "source": [
    "class sklearn.ensemble.RandomForestClassifier(n_estimators=100, *, criterion='gini', max_depth=None, min_samples_split=2, min_samples_leaf=1, min_weight_fraction_leaf=0.0, max_features='auto', max_leaf_nodes=None, min_impurity_decrease=0.0, min_impurity_split=None, bootstrap=True, oob_score=False, n_jobs=None, random_state=None, verbose=0, warm_start=False, class_weight=None, ccp_alpha=0.0, max_samples=None)"
   ]
  },
  {
   "cell_type": "raw",
   "metadata": {},
   "source": [
    "n_estimators int, default=100\n",
    "\n",
    "    The number of trees in the forest."
   ]
  },
  {
   "cell_type": "raw",
   "metadata": {},
   "source": [
    "max_depth int, default=None\n",
    "\n",
    "    The maximum depth of the tree. If None, then nodes are expanded until all leaves are pure or until all leaves contain less than min_samples_split samples.\n"
   ]
  },
  {
   "cell_type": "raw",
   "metadata": {},
   "source": [
    "bootstrap bool, default=True\n",
    "\n",
    "    Whether bootstrap samples are used when building trees. If False, the whole dataset is used to build each tree.\n"
   ]
  },
  {
   "cell_type": "code",
   "execution_count": 90,
   "metadata": {},
   "outputs": [
    {
     "name": "stdout",
     "output_type": "stream",
     "text": [
      "Fitting 5 folds for each of 8 candidates, totalling 40 fits\n"
     ]
    },
    {
     "name": "stderr",
     "output_type": "stream",
     "text": [
      "[Parallel(n_jobs=1)]: Using backend SequentialBackend with 1 concurrent workers.\n",
      "[Parallel(n_jobs=1)]: Done  40 out of  40 | elapsed:  1.7min finished\n"
     ]
    },
    {
     "data": {
      "text/plain": [
       "GridSearchCV(estimator=RandomForestClassifier(),\n",
       "             param_grid={'max_depth': [None, 2],\n",
       "                         'n_estimators': [20, 60, 80, 100]},\n",
       "             verbose=1)"
      ]
     },
     "execution_count": 90,
     "metadata": {},
     "output_type": "execute_result"
    }
   ],
   "source": [
    "from sklearn.model_selection import GridSearchCV\n",
    "from sklearn.exceptions import ConvergenceWarning\n",
    "\n",
    "import warnings\n",
    "\n",
    "params = {\n",
    "    'n_estimators': [20, 60, 80, 100],\n",
    "    'max_depth': [None, 2],\n",
    "    #'bootstrap' : [True, False],\n",
    "    \n",
    "}\n",
    "warnings.filterwarnings(\"ignore\", category=ConvergenceWarning)\n",
    "\n",
    "grid = GridSearchCV(estimator=RandomForestClassifier(),\n",
    "                    param_grid=params, verbose=1)\n",
    "grid.fit(X_train, y_train)"
   ]
  },
  {
   "cell_type": "code",
   "execution_count": 79,
   "metadata": {},
   "outputs": [
    {
     "data": {
      "text/plain": [
       "['mean_fit_time',\n",
       " 'mean_score_time',\n",
       " 'mean_test_score',\n",
       " 'param_bootstrap',\n",
       " 'param_max_depth',\n",
       " 'param_n_estimators',\n",
       " 'params',\n",
       " 'rank_test_score',\n",
       " 'split0_test_score',\n",
       " 'split1_test_score',\n",
       " 'split2_test_score',\n",
       " 'split3_test_score',\n",
       " 'split4_test_score',\n",
       " 'std_fit_time',\n",
       " 'std_score_time',\n",
       " 'std_test_score']"
      ]
     },
     "execution_count": 79,
     "metadata": {},
     "output_type": "execute_result"
    }
   ],
   "source": [
    "sorted(grid.cv_results_.keys())"
   ]
  },
  {
   "cell_type": "code",
   "execution_count": 94,
   "metadata": {},
   "outputs": [],
   "source": [
    "#grid.cv_results_"
   ]
  },
  {
   "cell_type": "code",
   "execution_count": 95,
   "metadata": {},
   "outputs": [
    {
     "data": {
      "text/plain": [
       "RandomForestClassifier(max_depth=2, n_estimators=20)"
      ]
     },
     "execution_count": 95,
     "metadata": {},
     "output_type": "execute_result"
    }
   ],
   "source": [
    "grid.best_estimator_"
   ]
  },
  {
   "cell_type": "code",
   "execution_count": 96,
   "metadata": {},
   "outputs": [
    {
     "data": {
      "text/plain": [
       "0.7213904761904761"
      ]
     },
     "execution_count": 96,
     "metadata": {},
     "output_type": "execute_result"
    }
   ],
   "source": [
    "grid.best_score_"
   ]
  },
  {
   "cell_type": "raw",
   "metadata": {},
   "source": [
    "Meilleur estimateur : RandomForestClassifier(max_depth=2, n_estimators=20)"
   ]
  },
  {
   "cell_type": "code",
   "execution_count": 98,
   "metadata": {},
   "outputs": [
    {
     "data": {
      "text/plain": [
       "RandomForestClassifier(max_depth=2, n_estimators=20)"
      ]
     },
     "execution_count": 98,
     "metadata": {},
     "output_type": "execute_result"
    }
   ],
   "source": [
    "X = data.drop(['id','cardio'], axis=1)\n",
    "y = data['cardio']\n",
    "X_trains, X_tests, y_trains, y_tests = train_test_split(X, y, test_size=0.25) # 70% training and 30% test\n",
    "\n",
    "rf = RandomForestClassifier(max_depth=2, n_estimators=20)\n",
    "\n",
    "rf.fit(X_trains, y_trains)"
   ]
  },
  {
   "cell_type": "code",
   "execution_count": 99,
   "metadata": {
    "scrolled": true
   },
   "outputs": [
    {
     "name": "stdout",
     "output_type": "stream",
     "text": [
      "              precision    recall  f1-score   support\n",
      "\n",
      "     class_0       0.68      0.81      0.74      8701\n",
      "     class_1       0.77      0.63      0.69      8799\n",
      "\n",
      "    accuracy                           0.72     17500\n",
      "   macro avg       0.72      0.72      0.72     17500\n",
      "weighted avg       0.72      0.72      0.72     17500\n",
      "\n"
     ]
    }
   ],
   "source": [
    "pred = rf.predict(X_test)\n",
    "target_names = ['class_0','class_1']\n",
    "\n",
    "print(classification_report(y_test, pred, target_names=target_names))"
   ]
  },
  {
   "cell_type": "code",
   "execution_count": null,
   "metadata": {},
   "outputs": [],
   "source": []
  }
 ],
 "metadata": {
  "kernelspec": {
   "display_name": "Python 3",
   "language": "python",
   "name": "python3"
  },
  "language_info": {
   "codemirror_mode": {
    "name": "ipython",
    "version": 3
   },
   "file_extension": ".py",
   "mimetype": "text/x-python",
   "name": "python",
   "nbconvert_exporter": "python",
   "pygments_lexer": "ipython3",
   "version": "3.7.9"
  }
 },
 "nbformat": 4,
 "nbformat_minor": 4
}
